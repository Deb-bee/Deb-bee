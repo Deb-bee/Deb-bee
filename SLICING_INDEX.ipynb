{
  "nbformat": 4,
  "nbformat_minor": 0,
  "metadata": {
    "colab": {
      "provenance": [],
      "authorship_tag": "ABX9TyME3dvFPq21uR6cg/eBfavq",
      "include_colab_link": true
    },
    "kernelspec": {
      "name": "python3",
      "display_name": "Python 3"
    },
    "language_info": {
      "name": "python"
    }
  },
  "cells": [
    {
      "cell_type": "markdown",
      "metadata": {
        "id": "view-in-github",
        "colab_type": "text"
      },
      "source": [
        "<a href=\"https://colab.research.google.com/github/Deb-bee/Deb-bee/blob/main/SLICING_INDEX.ipynb\" target=\"_parent\"><img src=\"https://colab.research.google.com/assets/colab-badge.svg\" alt=\"Open In Colab\"/></a>"
      ]
    },
    {
      "cell_type": "code",
      "source": [
        "import pandas as pd\n",
        "\n",
        "# Example data to define temperatures_ind\n",
        "data = {\n",
        "    \"Country\": [\"Pakistan\", \"Pakistan\", \"Russia\", \"Russia\"],\n",
        "    \"City\": [\"Lahore\", \"Karachi\", \"Moscow\", \"Saint Petersburg\"],\n",
        "    \"Temperature\": [30, 32, -5, -10]\n",
        "}\n",
        "\n",
        "# Create a DataFrame\n",
        "temperatures_df = pd.DataFrame(data)\n",
        "\n",
        "# Set a multi-level index (Country, City)\n",
        "temperatures_ind = temperatures_df.set_index([\"Country\", \"City\"])\n",
        "\n",
        "# Sort the index\n",
        "temperatures_srt = temperatures_ind.sort_index()\n",
        "\n",
        "# Subset rows from Pakistan to Russia\n",
        "print(temperatures_srt.loc[\"Pakistan\":\"Russia\"])\n",
        "\n",
        "# Subset rows from Pakistan, Lahore to Russia, Moscow\n",
        "print(temperatures_srt.loc[(\"Pakistan\", \"Lahore\"):(\"Russia\", \"Moscow\")])"
      ],
      "metadata": {
        "colab": {
          "base_uri": "https://localhost:8080/"
        },
        "id": "Felwu70dOeZE",
        "outputId": "18fb199c-5b23-4ee6-da39-cb8609451495"
      },
      "execution_count": 2,
      "outputs": [
        {
          "output_type": "stream",
          "name": "stdout",
          "text": [
            "                           Temperature\n",
            "Country  City                         \n",
            "Pakistan Karachi                    32\n",
            "         Lahore                     30\n",
            "Russia   Moscow                     -5\n",
            "         Saint Petersburg          -10\n",
            "                 Temperature\n",
            "Country  City               \n",
            "Pakistan Lahore           30\n",
            "Russia   Moscow           -5\n"
          ]
        }
      ]
    },
    {
      "cell_type": "code",
      "source": [
        "# Subset rows from India, Hyderabad to Iraq, Baghdad\n",
        "print(temperatures_srt.loc[(\"India\", \"Hyderabad\"):(\"Iraq\", \"Baghdad\")])\n",
        "\n",
        "# Subset columns from date to avg_temp_c\n",
        "print(temperatures_srt.loc[:,\"date\":\"avg_temp_c\"])\n",
        "\n",
        "# Subset in both directions at once\n",
        "print(temperatures_srt.loc[(\"India\", \"Hyderabad\"):(\"Iraq\", \"Baghdad\"), \"date\":\"avg_temp_c\"])"
      ],
      "metadata": {
        "colab": {
          "base_uri": "https://localhost:8080/"
        },
        "id": "F3X5JK4tUpY7",
        "outputId": "0e5bafeb-a32f-469e-aeaa-e69cff548201"
      },
      "execution_count": 3,
      "outputs": [
        {
          "output_type": "stream",
          "name": "stdout",
          "text": [
            "Empty DataFrame\n",
            "Columns: [Temperature]\n",
            "Index: []\n",
            "Empty DataFrame\n",
            "Columns: []\n",
            "Index: [(Pakistan, Karachi), (Pakistan, Lahore), (Russia, Moscow), (Russia, Saint Petersburg)]\n",
            "Empty DataFrame\n",
            "Columns: []\n",
            "Index: []\n"
          ]
        }
      ]
    },
    {
      "cell_type": "code",
      "source": [
        "import pandas as pd\n",
        "\n",
        "# Define the temperatures DataFrame\n",
        "data = {\n",
        "    \"City\": [\"New York\", \"Los Angeles\", \"Chicago\", \"Houston\", \"Phoenix\"],\n",
        "    \"Temperature\": [30, 25, 20, 35, 40],\n",
        "    \"Humidity\": [50, 60, 55, 65, 70],\n",
        "    \"Wind Speed\": [10, 12, 8, 15, 20],\n",
        "    \"Precipitation\": [0, 0.1, 0.2, 0, 0.3]\n",
        "}\n",
        "\n",
        "temperatures = pd.DataFrame(data)\n",
        "\n",
        "# Get 23rd row, 2nd column (index 22, 1)\n",
        "# Check if the DataFrame has at least 23 rows before accessing index 22\n",
        "if len(temperatures) > 22:\n",
        "    print(temperatures.iloc[22, 1])\n",
        "else:\n",
        "    print(\"The DataFrame does not have 23 rows. Cannot access index 22.\")\n",
        "\n",
        "# Use slicing to get the first 5 rows\n",
        "print(\"\\nFirst 5 rows:\")\n",
        "print(temperatures.iloc[:5])\n",
        "\n",
        "# Use slicing to get columns 3 to 4 (index positions 2 to 3)\n",
        "print(\"\\nColumns 3 to 4 (Humidity and Wind Speed):\")\n",
        "print(temperatures.iloc[:, 2:4])\n",
        "\n",
        "# Use slicing in both directions at once (first 5 rows and columns 3 to 4)\n",
        "print(\"\\nFirst 5 rows and columns 3 to 4:\")\n",
        "print(temperatures.iloc[:5, 2:4])"
      ],
      "metadata": {
        "colab": {
          "base_uri": "https://localhost:8080/"
        },
        "id": "szvUkEKch_R1",
        "outputId": "60d0e745-6032-4846-aa99-681b09ee7785"
      },
      "execution_count": 5,
      "outputs": [
        {
          "output_type": "stream",
          "name": "stdout",
          "text": [
            "The DataFrame does not have 23 rows. Cannot access index 22.\n",
            "\n",
            "First 5 rows:\n",
            "          City  Temperature  Humidity  Wind Speed  Precipitation\n",
            "0     New York           30        50          10            0.0\n",
            "1  Los Angeles           25        60          12            0.1\n",
            "2      Chicago           20        55           8            0.2\n",
            "3      Houston           35        65          15            0.0\n",
            "4      Phoenix           40        70          20            0.3\n",
            "\n",
            "Columns 3 to 4 (Humidity and Wind Speed):\n",
            "   Humidity  Wind Speed\n",
            "0        50          10\n",
            "1        60          12\n",
            "2        55           8\n",
            "3        65          15\n",
            "4        70          20\n",
            "\n",
            "First 5 rows and columns 3 to 4:\n",
            "   Humidity  Wind Speed\n",
            "0        50          10\n",
            "1        60          12\n",
            "2        55           8\n",
            "3        65          15\n",
            "4        70          20\n"
          ]
        }
      ]
    }
  ]
}