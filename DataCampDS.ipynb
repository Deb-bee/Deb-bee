{
  "nbformat": 4,
  "nbformat_minor": 0,
  "metadata": {
    "colab": {
      "provenance": [],
      "authorship_tag": "ABX9TyNAddj/gV0r0VrstO4e+JMZ",
      "include_colab_link": true
    },
    "kernelspec": {
      "name": "python3",
      "display_name": "Python 3"
    },
    "language_info": {
      "name": "python"
    }
  },
  "cells": [
    {
      "cell_type": "markdown",
      "metadata": {
        "id": "view-in-github",
        "colab_type": "text"
      },
      "source": [
        "<a href=\"https://colab.research.google.com/github/Deb-bee/Deb-bee/blob/main/DataCampDS.ipynb\" target=\"_parent\"><img src=\"https://colab.research.google.com/assets/colab-badge.svg\" alt=\"Open In Colab\"/></a>"
      ]
    },
    {
      "cell_type": "code",
      "execution_count": null,
      "metadata": {
        "id": "cZY4DGtVtb95"
      },
      "outputs": [],
      "source": [
        "import numpy as np\n",
        "\n",
        "baseball = [[180, 78.4],\n",
        "            [215, 102.7],\n",
        "            [210, 98.5],\n",
        "            [188, 75.2]]\n",
        "\n",
        "# Create a 2D numpy array from baseball: np_baseball\n",
        "np_baseball = np.array(baseball)\n",
        "\n",
        "# Print out the type of np_baseball\n",
        "print(type(np_baseball))\n",
        "\n",
        "# Print out the shape of np_baseball\n",
        "print(np_baseball.shape)"
      ]
    },
    {
      "cell_type": "code",
      "source": [
        "import numpy as np\n",
        "\n",
        "np_baseball = np.array(baseball)\n",
        "\n",
        "# Print out the 50th row of np_baseball\n",
        "print(\"50th row of np_baseball:\", np_baseball[49])\n",
        "\n",
        "# Select the entire second column of np_baseball: np_weight_lb\n",
        "np_weight_lb = np_baseball[:, 1]\n",
        "\n",
        "# Print out height of 124th player\n",
        "print(\"Height of the 124th player:\", np_baseball[123, 0])"
      ],
      "metadata": {
        "id": "AehNMz0inCqQ"
      },
      "execution_count": null,
      "outputs": []
    }
  ]
}