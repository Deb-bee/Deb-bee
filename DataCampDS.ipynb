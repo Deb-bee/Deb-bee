{
  "nbformat": 4,
  "nbformat_minor": 0,
  "metadata": {
    "colab": {
      "provenance": [],
      "authorship_tag": "ABX9TyPHh3aEWyPiiEjFFpG3PaSM",
      "include_colab_link": true
    },
    "kernelspec": {
      "name": "python3",
      "display_name": "Python 3"
    },
    "language_info": {
      "name": "python"
    }
  },
  "cells": [
    {
      "cell_type": "markdown",
      "metadata": {
        "id": "view-in-github",
        "colab_type": "text"
      },
      "source": [
        "<a href=\"https://colab.research.google.com/github/Deb-bee/Deb-bee/blob/main/DataCampDS.ipynb\" target=\"_parent\"><img src=\"https://colab.research.google.com/assets/colab-badge.svg\" alt=\"Open In Colab\"/></a>"
      ]
    },
    {
      "cell_type": "code",
      "execution_count": 1,
      "metadata": {
        "colab": {
          "base_uri": "https://localhost:8080/"
        },
        "id": "mmWFmodNROIv",
        "outputId": "513a51cf-006d-4951-b0ad-c4e2187b97f9"
      },
      "outputs": [
        {
          "output_type": "execute_result",
          "data": {
            "text/plain": [
              "['Alice', 30, 'Bob', 25, 'Charlie', 28, 'Diana', 32, 'Deb']"
            ]
          },
          "metadata": {},
          "execution_count": 1
        }
      ],
      "source": [
        "fam = [\"Alice\", 30, \"Bob\", 25, \"Charlie\", 28, \"Diana\", 32]\n",
        "fam.append(\"Deb\")\n",
        "fam"
      ]
    },
    {
      "cell_type": "code",
      "source": [
        "fam.append(30)\n",
        "fam"
      ],
      "metadata": {
        "colab": {
          "base_uri": "https://localhost:8080/"
        },
        "id": "TRoXPW3qStH3",
        "outputId": "4da8818b-d9bc-4c3a-d68e-e637373efa8a"
      },
      "execution_count": 2,
      "outputs": [
        {
          "output_type": "execute_result",
          "data": {
            "text/plain": [
              "['Alice', 30, 'Bob', 25, 'Charlie', 28, 'Diana', 32, 'Deb', 30]"
            ]
          },
          "metadata": {},
          "execution_count": 2
        }
      ]
    },
    {
      "cell_type": "code",
      "source": [
        "place = \"poolhouse\"\n",
        "place.upper()\n",
        "# Use upper() on place\n",
        "place_up = place.upper()\n",
        "\n",
        "# Print out place and place_up\n",
        "print (place)\n",
        "print (place_up)\n",
        "\n",
        "\n",
        "# Print out the number of o's in place\n",
        "place.count(\"o\")\n",
        "print (place.count(\"o\"))\n",
        "\n"
      ],
      "metadata": {
        "colab": {
          "base_uri": "https://localhost:8080/"
        },
        "id": "mxbDJigiWhiH",
        "outputId": "adb77f45-ed54-4dd2-f379-c02e81c5351b"
      },
      "execution_count": 3,
      "outputs": [
        {
          "output_type": "stream",
          "name": "stdout",
          "text": [
            "poolhouse\n",
            "POOLHOUSE\n",
            "3\n"
          ]
        }
      ]
    },
    {
      "cell_type": "code",
      "source": [
        "# Create list areas\n",
        "areas = [11.25, 18.0, 20.0, 10.75, 9.50]\n",
        "\n",
        "# Print out the index of the element 20.0\n",
        "areas.index(20.0)\n",
        "print (areas.index(20.0))\n",
        "\n",
        "# Print out how often 9.50 appears in areas\n",
        "areas.count(9.50)\n",
        "print (areas.count(9.50))"
      ],
      "metadata": {
        "colab": {
          "base_uri": "https://localhost:8080/"
        },
        "id": "tXCMYc5vd0t6",
        "outputId": "10324445-b8a6-4acf-8e67-229997937cd9"
      },
      "execution_count": 5,
      "outputs": [
        {
          "output_type": "stream",
          "name": "stdout",
          "text": [
            "2\n",
            "1\n"
          ]
        }
      ]
    },
    {
      "cell_type": "code",
      "source": [
        "# Create list areas\n",
        "areas = [11.25, 18.0, 20.0, 10.75, 9.50]\n",
        "\n",
        "# Use append twice to add poolhouse and garage size\n",
        "areas.append (24.5)\n",
        "areas.append(15.45)\n",
        "\n",
        "\n",
        "# Print out areas\n",
        "print (areas)\n",
        "\n",
        "# Reverse the orders of the elements in areas\n",
        "areas.reverse()\n",
        "\n",
        "# Print out areas\n",
        "print (areas)\n"
      ],
      "metadata": {
        "id": "xBAF_V5Afo_R"
      },
      "execution_count": null,
      "outputs": []
    },
    {
      "cell_type": "code",
      "source": [
        "import numpy as np\n"
      ],
      "metadata": {
        "id": "TmkUpZAsrhmc"
      },
      "execution_count": 6,
      "outputs": []
    }
  ]
}