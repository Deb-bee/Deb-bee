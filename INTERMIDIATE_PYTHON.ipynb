{
  "nbformat": 4,
  "nbformat_minor": 0,
  "metadata": {
    "colab": {
      "provenance": [],
      "authorship_tag": "ABX9TyO3yVi/s9aPgsQtYinERYfx",
      "include_colab_link": true
    },
    "kernelspec": {
      "name": "python3",
      "display_name": "Python 3"
    },
    "language_info": {
      "name": "python"
    }
  },
  "cells": [
    {
      "cell_type": "markdown",
      "metadata": {
        "id": "view-in-github",
        "colab_type": "text"
      },
      "source": [
        "<a href=\"https://colab.research.google.com/github/Deb-bee/Deb-bee/blob/main/INTERMIDIATE_PYTHON.ipynb\" target=\"_parent\"><img src=\"https://colab.research.google.com/assets/colab-badge.svg\" alt=\"Open In Colab\"/></a>"
      ]
    },
    {
      "cell_type": "code",
      "execution_count": null,
      "metadata": {
        "id": "H-Rw8wkYPRYp"
      },
      "outputs": [],
      "source": [
        "Print the last item from year and pop\n",
        "print (year[-1])\n",
        "print (pop[-1])\n",
        "\n",
        "\n",
        "# Import matplotlib.pyplot as plt\n",
        "import matplotlib.pyplot as plt\n",
        "\n",
        "# Make a line plot: year on the x-axis, pop on the y-axis\n",
        "\n",
        "plt.plot(year,pop)\n",
        "# Display the plot with plt.show()\n",
        "plt.show()"
      ]
    },
    {
      "cell_type": "code",
      "source": [
        "# Print the last item of gdp_cap and life_exp\n",
        "print(gdp_cap[-1])\n",
        "print(life_exp[-1])\n",
        "\n",
        "# Make a line plot, gdp_cap on the x-axis, life_exp on the y-axis\n",
        "plt.plot(gdp_cap,life_exp)\n",
        "\n",
        "# Display the plot\n",
        "plt.show()"
      ],
      "metadata": {
        "id": "qMX0BoxsPiZ2"
      },
      "execution_count": null,
      "outputs": []
    },
    {
      "cell_type": "code",
      "source": [
        "#Change the line plot below to a scatter plot\n",
        "plt.scatter(gdp_cap, life_exp)\n",
        "Change\n",
        "# Put the x-axis on a logarithmic scale\n",
        "plt.xscale('log')\n",
        "\n",
        "# Show plot\n",
        "plt.show()"
      ],
      "metadata": {
        "id": "LsjGs7AdPuNr"
      },
      "execution_count": null,
      "outputs": []
    },
    {
      "cell_type": "code",
      "source": [
        "# Import package\n",
        "import matplotlib.pyplot as plt\n",
        "\n",
        "# Build Scatter plot\n",
        "plt.scatter(pop,life_exp)\n",
        "\n",
        "# Show plot\n",
        "plt.show()"
      ],
      "metadata": {
        "id": "iTYQLIlwP6in"
      },
      "execution_count": null,
      "outputs": []
    },
    {
      "cell_type": "markdown",
      "source": [
        "HISTOGRAM"
      ],
      "metadata": {
        "id": "Ikc_8cLbQCiH"
      }
    },
    {
      "cell_type": "code",
      "source": [
        "import matplotlib.pyplot as plt\n"
      ],
      "metadata": {
        "id": "BVjLeEmXiL9u"
      },
      "execution_count": 2,
      "outputs": []
    },
    {
      "cell_type": "code",
      "source": [],
      "metadata": {
        "id": "HJ5f-1qOiE4f"
      },
      "execution_count": null,
      "outputs": []
    },
    {
      "cell_type": "code",
      "source": [
        "# Create histogram of life_exp data\n",
        "plt.hist(life_exp)\n",
        "\n",
        "# Display histogram\n",
        "plt.show()"
      ],
      "metadata": {
        "colab": {
          "base_uri": "https://localhost:8080/",
          "height": 211
        },
        "id": "qrfviblNQExw",
        "outputId": "e6ab9136-2dca-4772-9a8f-42e7872b95e5"
      },
      "execution_count": 4,
      "outputs": [
        {
          "output_type": "error",
          "ename": "NameError",
          "evalue": "name 'life_exp' is not defined",
          "traceback": [
            "\u001b[0;31m---------------------------------------------------------------------------\u001b[0m",
            "\u001b[0;31mNameError\u001b[0m                                 Traceback (most recent call last)",
            "\u001b[0;32m<ipython-input-4-8d1d95a34068>\u001b[0m in \u001b[0;36m<cell line: 0>\u001b[0;34m()\u001b[0m\n\u001b[1;32m      1\u001b[0m \u001b[0;31m# Create histogram of life_exp data\u001b[0m\u001b[0;34m\u001b[0m\u001b[0;34m\u001b[0m\u001b[0m\n\u001b[0;32m----> 2\u001b[0;31m \u001b[0mplt\u001b[0m\u001b[0;34m.\u001b[0m\u001b[0mhist\u001b[0m\u001b[0;34m(\u001b[0m\u001b[0mlife_exp\u001b[0m\u001b[0;34m)\u001b[0m\u001b[0;34m\u001b[0m\u001b[0;34m\u001b[0m\u001b[0m\n\u001b[0m\u001b[1;32m      3\u001b[0m \u001b[0;34m\u001b[0m\u001b[0m\n\u001b[1;32m      4\u001b[0m \u001b[0;31m# Display histogram\u001b[0m\u001b[0;34m\u001b[0m\u001b[0;34m\u001b[0m\u001b[0m\n\u001b[1;32m      5\u001b[0m \u001b[0mplt\u001b[0m\u001b[0;34m.\u001b[0m\u001b[0mshow\u001b[0m\u001b[0;34m(\u001b[0m\u001b[0;34m)\u001b[0m\u001b[0;34m\u001b[0m\u001b[0;34m\u001b[0m\u001b[0m\n",
            "\u001b[0;31mNameError\u001b[0m: name 'life_exp' is not defined"
          ]
        }
      ]
    },
    {
      "cell_type": "code",
      "source": [
        "# Build histogram with 5 bins\n",
        "plt.hist(life_exp, 5)\n",
        "\n",
        "# Show and clean up plot\n",
        "plt.show()\n",
        "plt.clf()\n",
        "\n",
        "# Build histogram with 20 bins\n",
        "plt.hist(life_exp, 20)\n",
        "\n",
        "# Show and clean up again\n",
        "plt.show()\n",
        "plt.clf()"
      ],
      "metadata": {
        "id": "DA1XkJ7iTsdN"
      },
      "execution_count": null,
      "outputs": []
    },
    {
      "cell_type": "code",
      "source": [
        "# Histogram of life_exp, 15 bins\n",
        "plt.hist(life_exp, 15)\n",
        "\n",
        "# Show and clear plot\n",
        "plt.show()\n",
        "plt.clf()\n",
        "\n",
        "# Histogram of life_exp1950, 15 bins\n",
        "plt.hist(life_exp1950, 15)\n",
        "\n",
        "# Show and clear plot again\n",
        "plt.show()\n",
        "plt.clf()"
      ],
      "metadata": {
        "id": "sO2sgjIMVNZU"
      },
      "execution_count": null,
      "outputs": []
    },
    {
      "cell_type": "markdown",
      "source": [
        "CUSTOMIZATION OF PLOTS"
      ],
      "metadata": {
        "id": "QV8pfj4yf1vl"
      }
    },
    {
      "cell_type": "code",
      "source": [
        "# Basic scatter plot, log scale\n",
        "plt.scatter(gdp_cap, life_exp)\n",
        "plt.xscale('log')\n",
        "\n",
        "# Strings\n",
        "xlab = 'GDP per Capita [in USD]'\n",
        "ylab = 'Life Expectancy [in years]'\n",
        "title = 'World Development in 2007'\n",
        "\n",
        "# Add axis labels\n",
        "plt.xlabel('GDP per Capita [in USD]')\n",
        "plt.ylabel('Life Expectancy [in years]')\n",
        "\n",
        "\n",
        "# Add title\n",
        "plt.title('World Development in 2007')\n",
        "\n",
        "# After customizing, display the plot\n",
        "plt.show()"
      ],
      "metadata": {
        "id": "uHt34QTSd6sW"
      },
      "execution_count": null,
      "outputs": []
    },
    {
      "cell_type": "code",
      "source": [
        "# Scatter plot\n",
        "plt.scatter(gdp_cap, life_exp)\n",
        "\n",
        "# Previous customizations\n",
        "plt.xscale('log')\n",
        "plt.xlabel('GDP per Capita [in USD]')\n",
        "plt.ylabel('Life Expectancy [in years]')\n",
        "plt.title('World Development in 2007')\n",
        "\n",
        "# Definition of tick_val and tick_lab\n",
        "tick_val = [1000, 10000, 100000]\n",
        "tick_lab = ['1k', '10k', '100k']\n",
        "\n",
        "# Adapt the ticks on the x-axis\n",
        "plt.xticks(tick_val, tick_lab)\n",
        "\n",
        "# After customizing, display the plot\n",
        "plt.show()"
      ],
      "metadata": {
        "colab": {
          "base_uri": "https://localhost:8080/",
          "height": 211
        },
        "id": "Wt2gQcMlfweD",
        "outputId": "82093075-4b5b-49d5-b4fc-ce98b5666504"
      },
      "execution_count": 5,
      "outputs": [
        {
          "output_type": "error",
          "ename": "NameError",
          "evalue": "name 'gdp_cap' is not defined",
          "traceback": [
            "\u001b[0;31m---------------------------------------------------------------------------\u001b[0m",
            "\u001b[0;31mNameError\u001b[0m                                 Traceback (most recent call last)",
            "\u001b[0;32m<ipython-input-5-177a798db5ee>\u001b[0m in \u001b[0;36m<cell line: 0>\u001b[0;34m()\u001b[0m\n\u001b[1;32m      1\u001b[0m \u001b[0;31m# Scatter plot\u001b[0m\u001b[0;34m\u001b[0m\u001b[0;34m\u001b[0m\u001b[0m\n\u001b[0;32m----> 2\u001b[0;31m \u001b[0mplt\u001b[0m\u001b[0;34m.\u001b[0m\u001b[0mscatter\u001b[0m\u001b[0;34m(\u001b[0m\u001b[0mgdp_cap\u001b[0m\u001b[0;34m,\u001b[0m \u001b[0mlife_exp\u001b[0m\u001b[0;34m)\u001b[0m\u001b[0;34m\u001b[0m\u001b[0;34m\u001b[0m\u001b[0m\n\u001b[0m\u001b[1;32m      3\u001b[0m \u001b[0;34m\u001b[0m\u001b[0m\n\u001b[1;32m      4\u001b[0m \u001b[0;31m# Previous customizations\u001b[0m\u001b[0;34m\u001b[0m\u001b[0;34m\u001b[0m\u001b[0m\n\u001b[1;32m      5\u001b[0m \u001b[0mplt\u001b[0m\u001b[0;34m.\u001b[0m\u001b[0mxscale\u001b[0m\u001b[0;34m(\u001b[0m\u001b[0;34m'log'\u001b[0m\u001b[0;34m)\u001b[0m\u001b[0;34m\u001b[0m\u001b[0;34m\u001b[0m\u001b[0m\n",
            "\u001b[0;31mNameError\u001b[0m: name 'gdp_cap' is not defined"
          ]
        }
      ]
    },
    {
      "cell_type": "code",
      "source": [],
      "metadata": {
        "id": "jEOGMF4OgOWC"
      },
      "execution_count": null,
      "outputs": []
    }
  ]
}