{
  "nbformat": 4,
  "nbformat_minor": 0,
  "metadata": {
    "colab": {
      "provenance": [],
      "authorship_tag": "ABX9TyOr/QTgn+7zHzSYIndH7BQS",
      "include_colab_link": true
    },
    "kernelspec": {
      "name": "python3",
      "display_name": "Python 3"
    },
    "language_info": {
      "name": "python"
    }
  },
  "cells": [
    {
      "cell_type": "markdown",
      "metadata": {
        "id": "view-in-github",
        "colab_type": "text"
      },
      "source": [
        "<a href=\"https://colab.research.google.com/github/Deb-bee/Deb-bee/blob/main/CONCATENATE_DATAFRAME_TOGETHER_VERTICALLY.ipynb\" target=\"_parent\"><img src=\"https://colab.research.google.com/assets/colab-badge.svg\" alt=\"Open In Colab\"/></a>"
      ]
    },
    {
      "cell_type": "code",
      "source": [
        "import pandas as pd\n",
        "\n",
        "# Create the DataFrame\n",
        "data = {\n",
        "    'aid': [152, 152, 152, 154, 154, 154, 154, 154, 155, 155, 155, 155, 155],\n",
        "    'composer': [\n",
        "        'J.Hetfield/L.Ulrich', 'K.Hammett', 'J.Hetfield/L.Ulrich', None, None, None, None, None,\n",
        "        None, None, None, None, None\n",
        "    ],\n",
        "    'gid': [3] * 13,\n",
        "    'mtid': [1] * 13,\n",
        "    'name': [\n",
        "        'Battery', 'Master Of Puppets', 'Disposable Heroes', 'Fight Fire With Fire',\n",
        "        'Ride The Lightning', 'For Whom The Bell Tolls', 'Fade To Black', 'Trapped Under Ice',\n",
        "        'Frantic', 'St. Anger', 'Some Kind Of Monster', 'Dirty Window', 'Invisible Kid'\n",
        "    ],\n",
        "    'tid': [1853, 1854, 1857, 1874, 1875, 1876, 1877, 1878, 1882, 1883, 1884, 1885, 1886],\n",
        "    'u_price': [0.99] * 13\n",
        "}\n",
        "\n",
        "df = pd.DataFrame(data)\n",
        "\n",
        "# Split the DataFrame into three smaller DataFrames based on album IDs (aid)\n",
        "tracks_master = df[df['aid'] == 152].reset_index(drop=True)  # Tracks from album 152\n",
        "tracks_ride = df[df['aid'] == 154].reset_index(drop=True)    # Tracks from album 154\n",
        "tracks_st = df[df['aid'] == 155].reset_index(drop=True)      # Tracks from album 155\n",
        "\n",
        "# Concatenate the tracks\n",
        "tracks_from_albums = pd.concat([tracks_master, tracks_ride, tracks_st], sort=True)\n",
        "\n",
        "# Display the concatenated DataFrame\n",
        "print(tracks_from_albums)"
      ],
      "metadata": {
        "colab": {
          "base_uri": "https://localhost:8080/"
        },
        "id": "JUZwomp5if9B",
        "outputId": "02a4db94-a5bf-4e12-f546-71c6b7b2183f"
      },
      "execution_count": 8,
      "outputs": [
        {
          "output_type": "stream",
          "name": "stdout",
          "text": [
            "   aid             composer  gid  mtid                     name   tid  u_price\n",
            "0  152  J.Hetfield/L.Ulrich    3     1                  Battery  1853     0.99\n",
            "1  152            K.Hammett    3     1        Master Of Puppets  1854     0.99\n",
            "2  152  J.Hetfield/L.Ulrich    3     1        Disposable Heroes  1857     0.99\n",
            "0  154                 None    3     1     Fight Fire With Fire  1874     0.99\n",
            "1  154                 None    3     1       Ride The Lightning  1875     0.99\n",
            "2  154                 None    3     1  For Whom The Bell Tolls  1876     0.99\n",
            "3  154                 None    3     1            Fade To Black  1877     0.99\n",
            "4  154                 None    3     1        Trapped Under Ice  1878     0.99\n",
            "0  155                 None    3     1                  Frantic  1882     0.99\n",
            "1  155                 None    3     1                St. Anger  1883     0.99\n",
            "2  155                 None    3     1     Some Kind Of Monster  1884     0.99\n",
            "3  155                 None    3     1             Dirty Window  1885     0.99\n",
            "4  155                 None    3     1            Invisible Kid  1886     0.99\n"
          ]
        }
      ]
    },
    {
      "cell_type": "code",
      "source": [
        "# Concatenate the tracks so the index goes from 0 to n-1\n",
        "tracks_from_albums = pd.concat([tracks_master,tracks_ride,tracks_st],\n",
        "                               ignore_index=True,\n",
        "                               sort=True)\n",
        "print(tracks_from_albums)"
      ],
      "metadata": {
        "colab": {
          "base_uri": "https://localhost:8080/"
        },
        "id": "fQa5bktriqme",
        "outputId": "851cc33e-78fa-42e6-fd3a-f88b4670df1f"
      },
      "execution_count": 9,
      "outputs": [
        {
          "output_type": "stream",
          "name": "stdout",
          "text": [
            "    aid             composer  gid  mtid                     name   tid  \\\n",
            "0   152  J.Hetfield/L.Ulrich    3     1                  Battery  1853   \n",
            "1   152            K.Hammett    3     1        Master Of Puppets  1854   \n",
            "2   152  J.Hetfield/L.Ulrich    3     1        Disposable Heroes  1857   \n",
            "3   154                 None    3     1     Fight Fire With Fire  1874   \n",
            "4   154                 None    3     1       Ride The Lightning  1875   \n",
            "5   154                 None    3     1  For Whom The Bell Tolls  1876   \n",
            "6   154                 None    3     1            Fade To Black  1877   \n",
            "7   154                 None    3     1        Trapped Under Ice  1878   \n",
            "8   155                 None    3     1                  Frantic  1882   \n",
            "9   155                 None    3     1                St. Anger  1883   \n",
            "10  155                 None    3     1     Some Kind Of Monster  1884   \n",
            "11  155                 None    3     1             Dirty Window  1885   \n",
            "12  155                 None    3     1            Invisible Kid  1886   \n",
            "\n",
            "    u_price  \n",
            "0      0.99  \n",
            "1      0.99  \n",
            "2      0.99  \n",
            "3      0.99  \n",
            "4      0.99  \n",
            "5      0.99  \n",
            "6      0.99  \n",
            "7      0.99  \n",
            "8      0.99  \n",
            "9      0.99  \n",
            "10     0.99  \n",
            "11     0.99  \n",
            "12     0.99  \n"
          ]
        }
      ]
    },
    {
      "cell_type": "code",
      "source": [
        "# Concatenate the tracks, show only columns names that are in all tables\n",
        "tracks_from_albums = pd.concat([tracks_master,tracks_ride,tracks_st],\n",
        "                               join=\"inner\",\n",
        "                               sort=True)\n",
        "print(tracks_from_albums)"
      ],
      "metadata": {
        "colab": {
          "base_uri": "https://localhost:8080/"
        },
        "id": "lcFN9OduivAz",
        "outputId": "fb7b8376-2f79-4fa5-82ab-8eb0454a1272"
      },
      "execution_count": 10,
      "outputs": [
        {
          "output_type": "stream",
          "name": "stdout",
          "text": [
            "   aid             composer  gid  mtid                     name   tid  u_price\n",
            "0  152  J.Hetfield/L.Ulrich    3     1                  Battery  1853     0.99\n",
            "1  152            K.Hammett    3     1        Master Of Puppets  1854     0.99\n",
            "2  152  J.Hetfield/L.Ulrich    3     1        Disposable Heroes  1857     0.99\n",
            "0  154                 None    3     1     Fight Fire With Fire  1874     0.99\n",
            "1  154                 None    3     1       Ride The Lightning  1875     0.99\n",
            "2  154                 None    3     1  For Whom The Bell Tolls  1876     0.99\n",
            "3  154                 None    3     1            Fade To Black  1877     0.99\n",
            "4  154                 None    3     1        Trapped Under Ice  1878     0.99\n",
            "0  155                 None    3     1                  Frantic  1882     0.99\n",
            "1  155                 None    3     1                St. Anger  1883     0.99\n",
            "2  155                 None    3     1     Some Kind Of Monster  1884     0.99\n",
            "3  155                 None    3     1             Dirty Window  1885     0.99\n",
            "4  155                 None    3     1            Invisible Kid  1886     0.99\n"
          ]
        }
      ]
    },
    {
      "cell_type": "code",
      "source": [
        "import pandas as pd\n",
        "import matplotlib.pyplot as plt\n",
        "\n",
        "# Sample data for inv_jul, inv_aug, and inv_sep\n",
        "inv_jul = pd.DataFrame({\n",
        "    'total': [100, 150, 200]  # Example invoice totals for July\n",
        "})\n",
        "\n",
        "inv_aug = pd.DataFrame({\n",
        "    'total': [120, 180, 220]  # Example invoice totals for August\n",
        "})\n",
        "\n",
        "inv_sep = pd.DataFrame({\n",
        "    'total': [130, 160, 210]  # Example invoice totals for September\n",
        "})\n",
        "\n",
        "# Concatenate the tables and add keys\n",
        "inv_jul_thr_sep = pd.concat([inv_jul, inv_aug, inv_sep], keys=['7Jul', '8Aug', '9Sep'])\n",
        "\n",
        "# Group the invoices by the index keys and find avg of the total column\n",
        "avg_inv_by_month = inv_jul_thr_sep.groupby(level=0).agg({'total': 'mean'})\n",
        "\n",
        "# Bar plot of avg_inv_by_month\n",
        "avg_inv_by_month.plot(kind='bar')\n",
        "plt.xlabel('Month')\n",
        "plt.ylabel('Average Total')\n",
        "plt.title('Average Invoice Total by Month')\n",
        "plt.show()"
      ],
      "metadata": {
        "colab": {
          "base_uri": "https://localhost:8080/",
          "height": 494
        },
        "id": "j2UfOxtKmh-s",
        "outputId": "67cc2696-4ef5-4ead-b5c8-845242b9575e"
      },
      "execution_count": 12,
      "outputs": [
        {
          "output_type": "display_data",
          "data": {
            "text/plain": [
              "<Figure size 640x480 with 1 Axes>"
            ],
            "image/png": "[encoded data removed]"
          },
          "metadata": {}
        }
      ]
    }
  ]
}