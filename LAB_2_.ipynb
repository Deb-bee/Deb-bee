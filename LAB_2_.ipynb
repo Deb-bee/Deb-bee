{
  "nbformat": 4,
  "nbformat_minor": 0,
  "metadata": {
    "colab": {
      "provenance": [],
      "authorship_tag": "ABX9TyPhbqkteBtN0tianoBH+VzT",
      "include_colab_link": true
    },
    "kernelspec": {
      "name": "python3",
      "display_name": "Python 3"
    },
    "language_info": {
      "name": "python"
    }
  },
  "cells": [
    {
      "cell_type": "markdown",
      "metadata": {
        "id": "view-in-github",
        "colab_type": "text"
      },
      "source": [
        "<a href=\"https://colab.research.google.com/github/Deb-bee/Deb-bee/blob/main/LAB_2_.ipynb\" target=\"_parent\"><img src=\"https://colab.research.google.com/assets/colab-badge.svg\" alt=\"Open In Colab\"/></a>"
      ]
    },
    {
      "cell_type": "code",
      "source": [],
      "metadata": {
        "id": "GHIhcIBlv59S"
      },
      "execution_count": null,
      "outputs": []
    },
    {
      "cell_type": "code",
      "source": [
        "print (\"Welcome to my program\")\n",
        "\n",
        "# prompt the user to enter a number:\n",
        "number = float(input(\"Enter a number: \"))\n",
        "\n",
        "# check if the number is positive\n",
        "if number > 0:\n",
        "  print(\"The number is positive,\")\n",
        "\n",
        "# check if the number is negative\n",
        "if number < 0:\n",
        "  print(\"The number is negative,\")\n",
        "\n",
        "# check if the number is zero\n",
        "if number == 0:\n",
        "  print (\"The number is zero. \")"
      ],
      "metadata": {
        "colab": {
          "base_uri": "https://localhost:8080/"
        },
        "outputId": "c982320c-8c1b-42da-a4c2-2a28c7352f62",
        "id": "nEnzSboZv-kq"
      },
      "execution_count": 8,
      "outputs": [
        {
          "output_type": "stream",
          "name": "stdout",
          "text": [
            "Welcome to my program\n",
            "Enter a number: -1\n",
            "The number is negative,\n"
          ]
        }
      ]
    },
    {
      "cell_type": "code",
      "source": [
        "print (\"Welcome to my program\")\n",
        "\n",
        "# prompt the user to enter a number:\n",
        "number = float(input(\"Enter a number: \"))\n",
        "\n",
        "# check if the number is positive\n",
        "if number > 0:\n",
        "  print(\"The number is positive,\")"
      ],
      "metadata": {
        "colab": {
          "base_uri": "https://localhost:8080/"
        },
        "id": "tHvOVQdVnYNH",
        "outputId": "c44069b6-7787-43c1-932a-e2077201b30e"
      },
      "execution_count": 3,
      "outputs": [
        {
          "output_type": "stream",
          "name": "stdout",
          "text": [
            "Welcome to my program\n",
            "Enter a number: 3\n",
            "The number is positive,\n"
          ]
        }
      ]
    },
    {
      "cell_type": "code",
      "execution_count": 2,
      "metadata": {
        "colab": {
          "base_uri": "https://localhost:8080/"
        },
        "id": "SWEbx39Ta-Dv",
        "outputId": "fe6f5c5d-602f-4141-f185-7e975ba2512e"
      },
      "outputs": [
        {
          "output_type": "stream",
          "name": "stdout",
          "text": [
            "Welcome to your portal, enter your password.\n",
            "Enter your password here:easyway\n",
            "Access denied\n",
            "End of program, Byeeeeeeeeeeeeee.\n"
          ]
        }
      ],
      "source": [
        "print (\"Welcome to your portal, enter your password.\")\n",
        "\n",
        "password = input(\"Enter your password here:\")\n",
        "\n",
        "if password == 'easypass':\n",
        "  print (\"Access granted\")\n",
        "if password != \"easypass\":\n",
        "  print (\"Access denied\")\n",
        "\n",
        "print (\"End of program, Byeeeeeeeeeeeeee.\")"
      ]
    },
    {
      "cell_type": "code",
      "execution_count": null,
      "metadata": {
        "colab": {
          "base_uri": "https://localhost:8080/"
        },
        "outputId": "23ae4e9f-76db-4d56-d41d-7ca4dd97be4e",
        "id": "bp0ISSSSoBPi"
      },
      "outputs": [
        {
          "output_type": "stream",
          "name": "stdout",
          "text": [
            "Welcome to your portal, enter your password.\n",
            "Enter your password here:easypass\n",
            "Access granted\n",
            "End of program, Byeeeeeeeeeeeeee.\n"
          ]
        }
      ],
      "source": [
        "print (\"Welcome to your portal, enter your password.\")\n",
        "\n",
        "password = input(\"Enter your password here:\")\n",
        "\n",
        "if password == 'easypass':\n",
        "  print (\"Access granted\")\n",
        "\n",
        "print (\"End of program, Byeeeeeeeeeeeeee.\")"
      ]
    },
    {
      "cell_type": "code",
      "source": [],
      "metadata": {
        "id": "kgmoqg62tU3m"
      },
      "execution_count": null,
      "outputs": []
    }
  ]
}