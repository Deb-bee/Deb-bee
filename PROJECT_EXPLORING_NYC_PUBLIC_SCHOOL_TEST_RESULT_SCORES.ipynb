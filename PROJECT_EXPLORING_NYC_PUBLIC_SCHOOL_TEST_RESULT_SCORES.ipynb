{
  "nbformat": 4,
  "nbformat_minor": 0,
  "metadata": {
    "colab": {
      "provenance": [],
      "authorship_tag": "ABX9TyNh4GK0N7b1cjNEDCpGfR81",
      "include_colab_link": true
    },
    "kernelspec": {
      "name": "python3",
      "display_name": "Python 3"
    },
    "language_info": {
      "name": "python"
    }
  },
  "cells": [
    {
      "cell_type": "markdown",
      "metadata": {
        "id": "view-in-github",
        "colab_type": "text"
      },
      "source": [
        "<a href=\"https://colab.research.google.com/github/Deb-bee/Deb-bee/blob/main/PROJECT_EXPLORING_NYC_PUBLIC_SCHOOL_TEST_RESULT_SCORES.ipynb\" target=\"_parent\"><img src=\"https://colab.research.google.com/assets/colab-badge.svg\" alt=\"Open In Colab\"/></a>"
      ]
    },
    {
      "cell_type": "code",
      "source": [
        "import pandas as pd\n",
        "import numpy as np\n",
        "\n",
        "\n",
        "data = {\n",
        "    \"school_name\": [f\"School {i}\" for i in range(1, 31)],  # School names: School 1 to School 30\n",
        "    \"borough\": np.random.choice([\"Manhattan\", \"Brooklyn\", \"Queens\", \"Bronx\", \"Staten Island\"], 30),  # Random boroughs\n",
        "    \"average_math\": np.random.randint(500, 800, 30),  # Random math scores between 500 and 800\n",
        "    \"average_reading\": np.random.randint(500, 800, 30),  # Random reading scores between 500 and 800\n",
        "    \"average_writing\": np.random.randint(500, 800, 30),  # Random writing scores between 500 and 800\n",
        "    \"student_count\": np.random.randint(200, 1000, 30),  # Random student counts between 200 and 1000\n",
        "    \"funding_per_student\": np.random.randint(8000, 15000, 30)  # Random funding per student between 8000 and 15000\n",
        "}\n",
        "\n",
        "# Convert the dictionary to a DataFrame\n",
        "schools = pd.DataFrame(data)\n",
        "\n",
        "# Display the DataFrame\n",
        "print(schools)"
      ],
      "metadata": {
        "colab": {
          "base_uri": "https://localhost:8080/"
        },
        "id": "DOHKg353i5K4",
        "outputId": "8b3670f9-b1ee-47bd-896c-68f9806b0107"
      },
      "execution_count": 18,
      "outputs": [
        {
          "output_type": "stream",
          "name": "stdout",
          "text": [
            "   school_name        borough  average_math  average_reading  average_writing  \\\n",
            "0     School 1      Manhattan           697              508              532   \n",
            "1     School 2       Brooklyn           739              732              675   \n",
            "2     School 3          Bronx           643              598              521   \n",
            "3     School 4          Bronx           596              646              737   \n",
            "4     School 5       Brooklyn           700              707              657   \n",
            "5     School 6         Queens           623              630              537   \n",
            "6     School 7      Manhattan           686              651              729   \n",
            "7     School 8  Staten Island           758              553              550   \n",
            "8     School 9      Manhattan           647              619              763   \n",
            "9    School 10      Manhattan           751              660              782   \n",
            "10   School 11         Queens           646              615              526   \n",
            "11   School 12      Manhattan           647              574              725   \n",
            "12   School 13       Brooklyn           698              612              776   \n",
            "13   School 14       Brooklyn           627              603              785   \n",
            "14   School 15          Bronx           538              753              596   \n",
            "15   School 16  Staten Island           628              726              783   \n",
            "16   School 17      Manhattan           766              611              646   \n",
            "17   School 18      Manhattan           650              598              503   \n",
            "18   School 19         Queens           797              652              534   \n",
            "19   School 20       Brooklyn           598              693              691   \n",
            "20   School 21  Staten Island           762              662              548   \n",
            "21   School 22          Bronx           751              707              516   \n",
            "22   School 23       Brooklyn           643              668              671   \n",
            "23   School 24          Bronx           611              660              719   \n",
            "24   School 25         Queens           559              567              657   \n",
            "25   School 26         Queens           501              788              545   \n",
            "26   School 27      Manhattan           753              776              505   \n",
            "27   School 28  Staten Island           639              634              598   \n",
            "28   School 29          Bronx           536              694              732   \n",
            "29   School 30       Brooklyn           659              627              536   \n",
            "\n",
            "    student_count  funding_per_student  \n",
            "0             479                12057  \n",
            "1             548                 8784  \n",
            "2             696                11175  \n",
            "3             501                12341  \n",
            "4             380                13596  \n",
            "5             806                13801  \n",
            "6             298                10806  \n",
            "7             899                 8537  \n",
            "8             315                13986  \n",
            "9             390                 9841  \n",
            "10            452                13016  \n",
            "11            360                10455  \n",
            "12            455                 8524  \n",
            "13            522                14971  \n",
            "14            327                13625  \n",
            "15            217                10950  \n",
            "16            992                12131  \n",
            "17            934                12780  \n",
            "18            765                12115  \n",
            "19            769                10368  \n",
            "20            522                11847  \n",
            "21            885                14655  \n",
            "22            991                12495  \n",
            "23            825                10701  \n",
            "24            487                 8971  \n",
            "25            862                14002  \n",
            "26            838                14614  \n",
            "27            354                 9166  \n",
            "28            689                13211  \n",
            "29            585                12929  \n"
          ]
        }
      ]
    },
    {
      "cell_type": "code",
      "source": [
        "import pandas as pd\n",
        "\n",
        "# Read in the data\n",
        "schools = pd.DataFrame(data)\n",
        "threshold = 800 * 0.80  # 640\n",
        "\n",
        "# Filter schools with math scores >= 640\n",
        "best_math_schools = schools[schools['average_math'] >= threshold]\n",
        "\n",
        "# Select only the \"school_name\" and \"average_math\" columns\n",
        "best_math_schools = best_math_schools[['school_name', 'average_math']]\n",
        "\n",
        "# Sort by \"average_math\" in descending order\n",
        "best_math_schools = best_math_schools.sort_values(by='average_math', ascending=False)\n",
        "\n",
        "print(best_math_schools)"
      ],
      "metadata": {
        "colab": {
          "base_uri": "https://localhost:8080/"
        },
        "id": "eQU3m-lDguPm",
        "outputId": "ae675700-191e-400d-8e52-2e25d13b8ccb"
      },
      "execution_count": 12,
      "outputs": [
        {
          "output_type": "stream",
          "name": "stdout",
          "text": [
            "   school_name  average_math\n",
            "10   School 11           773\n",
            "0     School 1           770\n",
            "14   School 15           764\n",
            "17   School 18           763\n",
            "25   School 26           759\n",
            "5     School 6           743\n",
            "13   School 14           741\n",
            "27   School 28           717\n",
            "19   School 20           705\n",
            "26   School 27           690\n",
            "1     School 2           689\n",
            "2     School 3           674\n",
            "9    School 10           666\n",
            "29   School 30           661\n"
          ]
        }
      ]
    },
    {
      "cell_type": "code",
      "source": [
        "# Re-run this cell\n",
        "import pandas as pd\n",
        "\n",
        "# Read in the data\n",
        "schools = pd.DataFrame(data)\n",
        "\n",
        "# Preview the data\n",
        "print(schools.head())\n",
        "\n",
        "\n",
        "\n",
        "# Step 1: Add a new column \"total_SAT\" to the original DataFrame\n",
        "schools[\"total_SAT\"] = schools[\"average_math\"] + schools[\"average_reading\"] + schools[\"average_writing\"]\n",
        "\n",
        "# Step 2: Create a new DataFrame \"top_10_schools\" with \"school_name\" and \"total_SAT\"\n",
        "top_10_schools = schools[[\"school_name\", \"total_SAT\"]]\n",
        "\n",
        "# Step 3: Sort by \"total_SAT\" in descending order\n",
        "top_10_schools = top_10_schools.sort_values(by=\"total_SAT\", ascending=False)\n",
        "\n",
        "# Step 4: Display the resulting DataFrame\n",
        "print(top_10_schools)\n"
      ],
      "metadata": {
        "colab": {
          "base_uri": "https://localhost:8080/"
        },
        "id": "6IbuGgnshRrr",
        "outputId": "40913a29-f507-4c4d-f978-474e49fe1fc5"
      },
      "execution_count": 13,
      "outputs": [
        {
          "output_type": "stream",
          "name": "stdout",
          "text": [
            "  school_name        borough  average_math  average_reading  average_writing  \\\n",
            "0    School 1          Bronx           770              701              527   \n",
            "1    School 2  Staten Island           689              769              634   \n",
            "2    School 3         Queens           674              770              700   \n",
            "3    School 4  Staten Island           550              714              767   \n",
            "4    School 5  Staten Island           554              751              532   \n",
            "\n",
            "   student_count  funding_per_student  \n",
            "0            933                13592  \n",
            "1            684                11302  \n",
            "2            606                10237  \n",
            "3            430                13504  \n",
            "4            948                13496  \n",
            "   school_name  total_SAT\n",
            "13   School 14       2218\n",
            "27   School 28       2217\n",
            "26   School 27       2208\n",
            "2     School 3       2144\n",
            "1     School 2       2092\n",
            "11   School 12       2080\n",
            "7     School 8       2061\n",
            "14   School 15       2051\n",
            "3     School 4       2031\n",
            "8     School 9       2019\n",
            "16   School 17       2003\n",
            "9    School 10       2000\n",
            "0     School 1       1998\n",
            "10   School 11       1996\n",
            "20   School 21       1990\n",
            "6     School 7       1986\n",
            "25   School 26       1983\n",
            "5     School 6       1979\n",
            "19   School 20       1967\n",
            "21   School 22       1890\n",
            "24   School 25       1863\n",
            "4     School 5       1837\n",
            "28   School 29       1824\n",
            "18   School 19       1815\n",
            "29   School 30       1796\n",
            "17   School 18       1781\n",
            "12   School 13       1763\n",
            "23   School 24       1732\n",
            "15   School 16       1722\n",
            "22   School 23       1577\n"
          ]
        }
      ]
    },
    {
      "cell_type": "code",
      "source": [
        "top_10_schools = top_10_schools.head(10)\n",
        "print(top_10_schools)"
      ],
      "metadata": {
        "colab": {
          "base_uri": "https://localhost:8080/"
        },
        "id": "v1GwdyFCh2gw",
        "outputId": "83067478-c259-4457-9557-cd4a749a82cb"
      },
      "execution_count": 14,
      "outputs": [
        {
          "output_type": "stream",
          "name": "stdout",
          "text": [
            "   school_name  total_SAT\n",
            "13   School 14       2218\n",
            "27   School 28       2217\n",
            "26   School 27       2208\n",
            "2     School 3       2144\n",
            "1     School 2       2092\n",
            "11   School 12       2080\n",
            "7     School 8       2061\n",
            "14   School 15       2051\n",
            "3     School 4       2031\n",
            "8     School 9       2019\n"
          ]
        }
      ]
    },
    {
      "cell_type": "code",
      "source": [
        "# Re-run this cell\n",
        "import pandas as pd\n",
        "\n",
        "# Read in the data\n",
        "schools = pd.DataFrame(data)\n",
        "# Preview the data\n",
        "print(schools.head())\n",
        "\n",
        "\n",
        "\n",
        "# Step 1: Add a new column \"total_SAT\" to the original DataFrame\n",
        "schools[\"total_SAT\"] = schools[\"average_math\"] + schools[\"average_reading\"] + schools[\"average_writing\"]\n",
        "\n",
        "# Step 2: Group by \"borough\" and calculate count, mean, and standard deviation of \"total_SAT\"\n",
        "borough_stats = schools.groupby(\"borough\").agg(\n",
        "    num_schools=(\"school_name\", \"count\"),  # Count of schools\n",
        "    average_SAT=(\"total_SAT\", \"mean\"),    # Mean of total_SAT\n",
        "    std_SAT=(\"total_SAT\", \"std\")          # Standard deviation of total_SAT\n",
        ").round(2)  # Round all numeric values to 2 decimal places\n",
        "\n",
        "# Step 3: Find the borough with the largest standard deviation\n",
        "largest_std_dev = borough_stats[borough_stats[\"std_SAT\"] == borough_stats[\"std_SAT\"].max()]\n",
        "\n",
        "# Step 4: Reset the index to make \"borough\" a column\n",
        "largest_std_dev = largest_std_dev.reset_index()\n",
        "\n",
        "# Step 5: Rename columns to match the required output\n",
        "largest_std_dev = largest_std_dev.rename(columns={\n",
        "    \"borough\": \"borough\",\n",
        "    \"num_schools\": \"num_schools\",\n",
        "    \"average_SAT\": \"average_SAT\",\n",
        "    \"std_SAT\": \"std_SAT\"\n",
        "})\n",
        "\n",
        "# Step 6: Display the resulting DataFrame\n",
        "print(largest_std_dev)"
      ],
      "metadata": {
        "colab": {
          "base_uri": "https://localhost:8080/"
        },
        "id": "AA5TSGqqjafY",
        "outputId": "2c02c09a-455d-4d3b-eae8-6d9e8984e10d"
      },
      "execution_count": 17,
      "outputs": [
        {
          "output_type": "stream",
          "name": "stdout",
          "text": [
            "  school_name        borough  average_math  average_reading  average_writing  \\\n",
            "0    School 1          Bronx           770              701              527   \n",
            "1    School 2  Staten Island           689              769              634   \n",
            "2    School 3         Queens           674              770              700   \n",
            "3    School 4  Staten Island           550              714              767   \n",
            "4    School 5  Staten Island           554              751              532   \n",
            "\n",
            "   student_count  funding_per_student  \n",
            "0            933                13592  \n",
            "1            684                11302  \n",
            "2            606                10237  \n",
            "3            430                13504  \n",
            "4            948                13496  \n",
            "    borough  num_schools  average_SAT  std_SAT\n",
            "0  Brooklyn            5       2025.2   205.71\n"
          ]
        }
      ]
    }
  ]
}