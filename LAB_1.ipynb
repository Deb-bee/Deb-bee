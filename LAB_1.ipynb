{
  "nbformat": 4,
  "nbformat_minor": 0,
  "metadata": {
    "colab": {
      "provenance": [],
      "authorship_tag": "ABX9TyPxS9rg7vcFKnk2g1AQJM1l",
      "include_colab_link": true
    },
    "kernelspec": {
      "name": "python3",
      "display_name": "Python 3"
    },
    "language_info": {
      "name": "python"
    }
  },
  "cells": [
    {
      "cell_type": "markdown",
      "metadata": {
        "id": "view-in-github",
        "colab_type": "text"
      },
      "source": [
        "<a href=\"https://colab.research.google.com/github/Deb-bee/Deb-bee/blob/main/LAB_1.ipynb\" target=\"_parent\"><img src=\"https://colab.research.google.com/assets/colab-badge.svg\" alt=\"Open In Colab\"/></a>"
      ]
    },
    {
      "cell_type": "markdown",
      "source": [],
      "metadata": {
        "id": "Wo6LdSwY4Uwd"
      }
    },
    {
      "cell_type": "code",
      "source": [
        "print (\"Welcome to the bill calculator! enter the bill items below. \\n\")\n",
        "\n",
        "starter = float(input(\"starter = \"))\n",
        "main_meal = float(input(\"main_meal = \"))\n",
        "dessert = float(input(\"dessert = \"))\n",
        "\n",
        "total = float(starter+main_meal+dessert)\n",
        "tax = total*0.2\n",
        "\n",
        "print (\"\\n Total without tax = \",total, \"\\n Total with tax = \",total+tax)"
      ],
      "metadata": {
        "colab": {
          "base_uri": "https://localhost:8080/"
        },
        "id": "c69xfgN___jh",
        "outputId": "3996ad8e-f415-4dcc-ef77-bc4be60ace86"
      },
      "execution_count": 15,
      "outputs": [
        {
          "output_type": "stream",
          "name": "stdout",
          "text": [
            "Welcome to the bill calculator! enter the bill items below. \n",
            "\n",
            "starter = 200\n",
            "main_meal = 500\n",
            "dessert = 100\n",
            "\n",
            " Total without tax =  800.0 \n",
            " Total with tax =  960.0\n"
          ]
        }
      ]
    },
    {
      "cell_type": "code",
      "source": [
        "print (\"Welcome to my program, please enter 3 whole numbers;\")\n",
        "\n",
        "first = int(input(\"enter the first number; \"))\n",
        "second = int(input(\"enter the second number: \"))\n",
        "third = int(input(\"enter the third number: \"))\n",
        "\n",
        "result = int(first+second+third)\n",
        "print ('Result = ', result )\n",
        "average = result/3\n",
        "print ('therefore the average is = ', average)"
      ],
      "metadata": {
        "colab": {
          "base_uri": "https://localhost:8080/"
        },
        "id": "ZgryOVuVz0G9",
        "outputId": "57b8b3a9-da21-4c84-ead8-4b184b75a8a0"
      },
      "execution_count": 14,
      "outputs": [
        {
          "output_type": "stream",
          "name": "stdout",
          "text": [
            "Welcome to my program, please enter 3 whole numbers;\n",
            "enter the first number; 5\n",
            "enter the second number: 5\n",
            "enter the third number: 5\n",
            "Result =  15\n",
            "therefore the average is =  5.0\n"
          ]
        }
      ]
    },
    {
      "cell_type": "code",
      "source": [
        "print (\"Wellcome to my python tutorial\")\n",
        "name = input (\"Please what is your name? \")\n",
        "age = int(input(\"how old are you? \"))\n",
        "height = float(input(\"How short are you? \"))\n",
        "\n",
        "# age = int(age)\n",
        "# height = float(height)\n",
        "\n",
        "print (\"Hello \", name , \" so you are \" ,age,\" years old and \" ,height, \" short #lol, anyways nice to meet you!\")"
      ],
      "metadata": {
        "colab": {
          "base_uri": "https://localhost:8080/"
        },
        "outputId": "b204796d-24d1-4eee-ef29-50712b7595bb",
        "id": "7IB2JtZ3z5Tk"
      },
      "execution_count": 5,
      "outputs": [
        {
          "output_type": "stream",
          "name": "stdout",
          "text": [
            "Wellcome to my python tutorial\n",
            "Please what is your name? Orah\n",
            "how old are you? 20\n",
            "How short are you? 170\n",
            "Hello  Orah  so you are  20  years old and  170.0  short #lol, anyways nice to meet you!\n"
          ]
        }
      ]
    },
    {
      "cell_type": "code",
      "source": [
        "make = 'BENZ '\n",
        "model = 'BENZ360  '\n",
        "car_registration_number = '12345678'\n",
        "car1_info = make+model+car_registration_number\n",
        "print (car1_info)"
      ],
      "metadata": {
        "colab": {
          "base_uri": "https://localhost:8080/"
        },
        "id": "I7zbMb2DDusQ",
        "outputId": "4e301d5c-8374-4119-c14e-e3fc0655451d"
      },
      "execution_count": null,
      "outputs": [
        {
          "output_type": "stream",
          "name": "stdout",
          "text": [
            "BENZ BENZ360  12345678\n"
          ]
        }
      ]
    },
    {
      "cell_type": "code",
      "source": [
        "print (\"Wellcome to my python tutorial\")\n",
        "name = input (\"Please what is your name? \")\n",
        "age = input (\"how old are you? \")\n",
        "height = input (\"How short are you? \")\n",
        "\n",
        "age = int(age)\n",
        "height = float(height)\n",
        "print (\"Hello \"+ name + \" so you are \" + str(age) + \" years old and \" + str(height) + \" short #lol, anyways nice to meet you!\")"
      ],
      "metadata": {
        "colab": {
          "base_uri": "https://localhost:8080/"
        },
        "outputId": "7b1e5957-706a-48e1-b205-d7d50f24a0cd",
        "id": "vKW5ls4hwLiY"
      },
      "execution_count": 2,
      "outputs": [
        {
          "output_type": "stream",
          "name": "stdout",
          "text": [
            "Wellcome to my python tutorial\n",
            "Please what is your name? Orah\n",
            "how old are you? 20\n",
            "How short are you? 170\n",
            "Hello Orah so you are 20 years old and 170.0 short #lol, anyways nice to meet you!\n"
          ]
        }
      ]
    },
    {
      "cell_type": "code",
      "source": [
        "print (\"Wellcome to my python tutorial\")\n",
        "name = input (\"Please what is your name? \")\n",
        "age = input (\"how old are you? \")\n",
        "height = input (\"How short are you? \")\n",
        "print (\"Hello \"+ name + \" so you are \" + age + \" years old and \" + height + \" short #lol, anyways nice to meet you!\")"
      ],
      "metadata": {
        "colab": {
          "base_uri": "https://localhost:8080/"
        },
        "id": "AvAFSX6i3-Um",
        "outputId": "433e2546-2c97-4e76-f6ec-98fb8eef0659"
      },
      "execution_count": null,
      "outputs": [
        {
          "output_type": "stream",
          "name": "stdout",
          "text": [
            "Wellcome to my python tutorial\n",
            "Please what is your name? Orah\n",
            "how old are you? 20\n",
            "How short are you? 170\n",
            "Hello Orah so you are 20 years old and 170 short #lol, anyways nice to meet you!\n"
          ]
        }
      ]
    },
    {
      "cell_type": "code",
      "source": [
        "print (\"Wellcome to my python tutorial\")\n",
        "input (\"Please what is your name? \")\n",
        "print (\"Nice to meet you!\")"
      ],
      "metadata": {
        "colab": {
          "base_uri": "https://localhost:8080/"
        },
        "id": "SNlBPAO-2AjP",
        "outputId": "0afaec62-e972-4e26-cb95-5c035655954e"
      },
      "execution_count": null,
      "outputs": [
        {
          "output_type": "stream",
          "name": "stdout",
          "text": [
            "Wellcome to my python tutorial\n",
            "Please what is your name? Orah\n",
            "Nice to meet you!\n"
          ]
        }
      ]
    }
  ]
}