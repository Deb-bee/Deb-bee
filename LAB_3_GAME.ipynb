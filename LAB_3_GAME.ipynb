{
  "nbformat": 4,
  "nbformat_minor": 0,
  "metadata": {
    "colab": {
      "provenance": [],
      "authorship_tag": "ABX9TyP9KjZ19CGsT7C7IMrdaMEy",
      "include_colab_link": true
    },
    "kernelspec": {
      "name": "python3",
      "display_name": "Python 3"
    },
    "language_info": {
      "name": "python"
    }
  },
  "cells": [
    {
      "cell_type": "markdown",
      "metadata": {
        "id": "view-in-github",
        "colab_type": "text"
      },
      "source": [
        "<a href=\"https://colab.research.google.com/github/Deb-bee/Deb-bee/blob/main/LAB_3_GAME.ipynb\" target=\"_parent\"><img src=\"https://colab.research.google.com/assets/colab-badge.svg\" alt=\"Open In Colab\"/></a>"
      ]
    },
    {
      "cell_type": "code",
      "source": [
        "import random\n",
        "\n",
        "# Generate a random number between 1 and 100\n"
      ],
      "metadata": {
        "id": "OOkoRTfomPBo"
      },
      "execution_count": null,
      "outputs": []
    },
    {
      "cell_type": "code",
      "execution_count": 6,
      "metadata": {
        "colab": {
          "base_uri": "https://localhost:8080/"
        },
        "id": "XwqjUTR7h_-i",
        "outputId": "dda5ee1c-c0fd-4316-9d3e-a131e56e6a8e"
      },
      "outputs": [
        {
          "output_type": "stream",
          "name": "stdout",
          "text": [
            "Welcome to the GUESS MY NUMBER GAME\n",
            "4\n",
            "Guess a number between 1 and 5: 1\n",
            "Guess a number between 1 and 5: 2\n",
            "Guess a number between 1 and 5: 3\n",
            "Guess a number between 1 and 5: 4\n",
            "Congrats! You guessed right: 4\n"
          ]
        }
      ],
      "source": [
        "import random\n",
        "\n",
        "print (\"Welcome to the GUESS MY NUMBER GAME\" )\n",
        "imagined_number = random.randint(1,5)\n",
        "print (imagined_number)\n",
        "user_number = 0\n",
        "\n",
        "while user_number != imagined_number:\n",
        "  user_number = int(input(\"Guess a number between 1 and 5: \"))\n",
        "\n",
        "print (\"Congrats! You guessed right:\",user_number)\n"
      ]
    }
  ]
}