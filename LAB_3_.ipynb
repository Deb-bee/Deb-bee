{
  "nbformat": 4,
  "nbformat_minor": 0,
  "metadata": {
    "colab": {
      "provenance": [],
      "authorship_tag": "ABX9TyOYDJ2zZ9HqoaFBA2rnzJuf",
      "include_colab_link": true
    },
    "kernelspec": {
      "name": "python3",
      "display_name": "Python 3"
    },
    "language_info": {
      "name": "python"
    }
  },
  "cells": [
    {
      "cell_type": "markdown",
      "metadata": {
        "id": "view-in-github",
        "colab_type": "text"
      },
      "source": [
        "<a href=\"https://colab.research.google.com/github/Deb-bee/Deb-bee/blob/main/LAB_3_.ipynb\" target=\"_parent\"><img src=\"https://colab.research.google.com/assets/colab-badge.svg\" alt=\"Open In Colab\"/></a>"
      ]
    },
    {
      "cell_type": "code",
      "source": [],
      "metadata": {
        "id": "sJteUVnAUG6-"
      },
      "execution_count": null,
      "outputs": []
    },
    {
      "cell_type": "code",
      "source": [
        "print (\"Welcome to your portal, enter your password.\")\n",
        "\n",
        "password = input(\"Enter your password here:\")\n",
        "attempts = 1\n",
        "\n",
        "while  (password != 'easypass') and (attempts <= 3):\n",
        "  password = input(\"Incorrect. Try again:\")\n",
        "  attempts +=1\n",
        "\n",
        "if password == \"easypass\":\n",
        "  print (\"Access granted. End of program, Byeeeeeeeeeeeeee.\")\n",
        "\n",
        "else:\n",
        "  print (\"Too many attempts! Bye.\")"
      ],
      "metadata": {
        "colab": {
          "base_uri": "https://localhost:8080/"
        },
        "outputId": "6db909c2-31cb-48a8-f7a5-49ac1b6403f4",
        "id": "_7h8Q_oSUMAw"
      },
      "execution_count": 10,
      "outputs": [
        {
          "output_type": "stream",
          "name": "stdout",
          "text": [
            "Welcome to your portal, enter your password.\n",
            "Enter your password here:let\n",
            "Incorrect. Try again:me\n",
            "Incorrect. Try again:in\n",
            "Incorrect. Try again:fo\n",
            "Too many attempts! Bye.\n"
          ]
        }
      ]
    },
    {
      "cell_type": "code",
      "source": [
        "number = int(input(\"Enter a number: \"))\n",
        "\n",
        "if number > 0:\n",
        "  print (\"Your number is higher than zero\")\n",
        "\n",
        "elif number > 100:\n",
        "  print (\"You are aiming high!\")\n",
        "\n",
        "elif (number%2) == 0:\n",
        "  print (\"You entered an even number\")\n",
        "\n",
        "else:\n",
        "  print (\"You entered a negative number\")"
      ],
      "metadata": {
        "colab": {
          "base_uri": "https://localhost:8080/"
        },
        "id": "-3YluqAuOwrL",
        "outputId": "586e7405-af97-41b4-b941-67f9031674dc"
      },
      "execution_count": 7,
      "outputs": [
        {
          "output_type": "stream",
          "name": "stdout",
          "text": [
            "Enter a number: 2\n",
            "Your number is higher than zero\n",
            "You entered an even number\n"
          ]
        }
      ]
    },
    {
      "cell_type": "code",
      "source": [
        "print (\"Welcome to my program\")\n",
        "\n",
        "# prompt the user to enter a number:\n",
        "number = float(input(\"Enter a number: \"))\n",
        "\n",
        "# check if the number is positive\n",
        "if number > 0:\n",
        "  print(\"The number is positive,\")\n",
        "\n",
        "# check if the number is negative\n",
        "elif number < 0:\n",
        "  print(\"The number is negative,\")\n",
        "\n",
        "# check if the number is zero\n",
        "else:\n",
        "  print (\"The number is zero. \")"
      ],
      "metadata": {
        "colab": {
          "base_uri": "https://localhost:8080/"
        },
        "id": "i9RFw1hgLKK2",
        "outputId": "44a8899e-3789-407e-b98b-cd329a4aa04b"
      },
      "execution_count": 3,
      "outputs": [
        {
          "output_type": "stream",
          "name": "stdout",
          "text": [
            "Welcome to my program\n",
            "Enter a number: -1\n",
            "The number is negative,\n"
          ]
        }
      ]
    },
    {
      "cell_type": "code",
      "source": [
        "print (\"Welcome to your portal, enter your password.\")\n",
        "\n",
        "password = input(\"Enter your password here:\")\n",
        "\n",
        "if password == 'easypass':\n",
        "  print (\"Access granted\")\n",
        "else:\n",
        "  print (\"Access denied\")\n",
        "\n",
        "print (\"End of program, Byeeeeeeeeeeeeee.\")"
      ],
      "metadata": {
        "colab": {
          "base_uri": "https://localhost:8080/"
        },
        "id": "anAKKPyGMV3K",
        "outputId": "cd0daddf-f82e-43c0-9d1d-f3d3d5685010"
      },
      "execution_count": 1,
      "outputs": [
        {
          "output_type": "stream",
          "name": "stdout",
          "text": [
            "Welcome to your portal, enter your password.\n",
            "Enter your password here:betway\n",
            "Access denied\n",
            "End of program, Byeeeeeeeeeeeeee.\n"
          ]
        }
      ]
    }
  ]
}