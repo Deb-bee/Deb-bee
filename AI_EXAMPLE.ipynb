{
  "nbformat": 4,
  "nbformat_minor": 0,
  "metadata": {
    "colab": {
      "provenance": [],
      "authorship_tag": "ABX9TyNdEn9WjJ9mjdCNy9BX1g09",
      "include_colab_link": true
    },
    "kernelspec": {
      "name": "python3",
      "display_name": "Python 3"
    },
    "language_info": {
      "name": "python"
    }
  },
  "cells": [
    {
      "cell_type": "markdown",
      "metadata": {
        "id": "view-in-github",
        "colab_type": "text"
      },
      "source": [
        "<a href=\"https://colab.research.google.com/github/Deb-bee/Deb-bee/blob/main/AI_EXAMPLE.ipynb\" target=\"_parent\"><img src=\"https://colab.research.google.com/assets/colab-badge.svg\" alt=\"Open In Colab\"/></a>"
      ]
    },
    {
      "cell_type": "code",
      "execution_count": 1,
      "metadata": {
        "colab": {
          "base_uri": "https://localhost:8080/"
        },
        "id": "3HW8CkF1HdXS",
        "outputId": "a9c5f7c1-abc9-4555-ebce-6ab8fe62725d"
      },
      "outputs": [
        {
          "output_type": "stream",
          "name": "stdout",
          "text": [
            "Enter the height of the room (in meters): 2.8\n",
            "Enter the width of the first wall (in meters): 3\n",
            "Enter the width of the second wall (in meters): 2\n",
            "Total area to be painted: 13.999999999999998 square meters\n",
            "Paint required: 27.999999999999996 liters\n"
          ]
        }
      ],
      "source": [
        "# prompt: please create a simple program where the user is asked to enter (in meters); height of the room, width of two walls and then calculate how much paint is required to paint these two walls. we need two litres per square meter.\n",
        "\n",
        "def paint_calculator():\n",
        "    try:\n",
        "        height = float(input(\"Enter the height of the room (in meters): \"))\n",
        "        width1 = float(input(\"Enter the width of the first wall (in meters): \"))\n",
        "        width2 = float(input(\"Enter the width of the second wall (in meters): \"))\n",
        "\n",
        "        if height <= 0 or width1 <= 0 or width2 <= 0:\n",
        "            print(\"Height and width must be positive values.\")\n",
        "            return\n",
        "\n",
        "        area1 = height * width1\n",
        "        area2 = height * width2\n",
        "        total_area = area1 + area2\n",
        "        paint_required = total_area * 2\n",
        "\n",
        "        print(f\"Total area to be painted: {total_area} square meters\")\n",
        "        print(f\"Paint required: {paint_required} liters\")\n",
        "\n",
        "    except ValueError:\n",
        "        print(\"Invalid input. Please enter numeric values for height and width.\")\n",
        "\n",
        "if __name__ == \"__main__\":\n",
        "    paint_calculator()"
      ]
    }
  ]
}