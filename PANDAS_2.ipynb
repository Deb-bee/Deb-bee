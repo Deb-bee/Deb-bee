{
  "nbformat": 4,
  "nbformat_minor": 0,
  "metadata": {
    "colab": {
      "provenance": [],
      "authorship_tag": "ABX9TyMQbFH7YTPJpI6blErx3gEw",
      "include_colab_link": true
    },
    "kernelspec": {
      "name": "python3",
      "display_name": "Python 3"
    },
    "language_info": {
      "name": "python"
    }
  },
  "cells": [
    {
      "cell_type": "markdown",
      "metadata": {
        "id": "view-in-github",
        "colab_type": "text"
      },
      "source": [
        "<a href=\"https://colab.research.google.com/github/Deb-bee/Deb-bee/blob/main/PANDAS_2.ipynb\" target=\"_parent\"><img src=\"https://colab.research.google.com/assets/colab-badge.svg\" alt=\"Open In Colab\"/></a>"
      ]
    },
    {
      "cell_type": "code",
      "source": [
        "\n",
        "import pandas as pd\n",
        "\n",
        "# Create a sample DataFrame for homelessness data\n",
        "data = {\n",
        "    \"state\": [\"California\", \"Texas\", \"Florida\", \"New York\", \"Illinois\"],\n",
        "    \"individuals\": [108000, 25000, 28000, 92000, 13000],\n",
        "    \"family_members\": [20900, 5200, 6000, 17000, 2400],\n",
        "    \"total\": [128900, 30200, 34000, 109000, 15400]\n",
        "}\n",
        "\n",
        "# Convert the dictionary to a DataFrame\n",
        "homelessness = pd.DataFrame(data)\n",
        "\n",
        "# Save the DataFrame to a CSV file\n",
        "homelessness.to_csv(\"homelessness.csv\", index=False)\n",
        "\n",
        "print(\"CSV file 'homelessness.csv' has been created.\")\n",
        "\n",
        "\n",
        "\n"
      ],
      "metadata": {
        "colab": {
          "base_uri": "https://localhost:8080/"
        },
        "id": "aVa5a3-42y4W",
        "outputId": "25db8e0a-1263-4ccb-d149-554b831a5338"
      },
      "execution_count": 5,
      "outputs": [
        {
          "output_type": "stream",
          "name": "stdout",
          "text": [
            "CSV file 'homelessness.csv' has been created.\n"
          ]
        }
      ]
    },
    {
      "cell_type": "code",
      "execution_count": 4,
      "metadata": {
        "colab": {
          "base_uri": "https://localhost:8080/"
        },
        "id": "_9VIQcTXrxtE",
        "outputId": "dd4448e4-7a50-4704-c014-0ada838441d0"
      },
      "outputs": [
        {
          "output_type": "stream",
          "name": "stdout",
          "text": [
            "        state  individuals  family_members   total\n",
            "0  California       108000           20900  128900\n",
            "1       Texas        25000            5200   30200\n",
            "2     Florida        28000            6000   34000\n",
            "3    New York        92000           17000  109000\n",
            "4    Illinois        13000            2400   15400\n"
          ]
        }
      ],
      "source": [
        "# Print the head of the homelessness data\n",
        "print(homelessness.head())"
      ]
    },
    {
      "cell_type": "code",
      "source": [
        "# Print the head of the homelessness data\n",
        "print(homelessness.head())\n",
        "\n",
        "# Print information about homelessness\n",
        "print(homelessness.info())"
      ],
      "metadata": {
        "colab": {
          "base_uri": "https://localhost:8080/"
        },
        "id": "JCAT6XKKyvW1",
        "outputId": "78836bc3-dbcd-4fa2-e383-5b6fec29d1d6"
      },
      "execution_count": 6,
      "outputs": [
        {
          "output_type": "stream",
          "name": "stdout",
          "text": [
            "        state  individuals  family_members   total\n",
            "0  California       108000           20900  128900\n",
            "1       Texas        25000            5200   30200\n",
            "2     Florida        28000            6000   34000\n",
            "3    New York        92000           17000  109000\n",
            "4    Illinois        13000            2400   15400\n",
            "<class 'pandas.core.frame.DataFrame'>\n",
            "RangeIndex: 5 entries, 0 to 4\n",
            "Data columns (total 4 columns):\n",
            " #   Column          Non-Null Count  Dtype \n",
            "---  ------          --------------  ----- \n",
            " 0   state           5 non-null      object\n",
            " 1   individuals     5 non-null      int64 \n",
            " 2   family_members  5 non-null      int64 \n",
            " 3   total           5 non-null      int64 \n",
            "dtypes: int64(3), object(1)\n",
            "memory usage: 292.0+ bytes\n",
            "None\n"
          ]
        }
      ]
    },
    {
      "cell_type": "code",
      "source": [
        "# Print the head of the homelessness data\n",
        "print(homelessness.head())\n",
        "\n",
        "# Print information about homelessness\n",
        "print(homelessness.info())\n",
        "\n",
        "# Print the shape of homelessness\n",
        "print(homelessness.shape)"
      ],
      "metadata": {
        "colab": {
          "base_uri": "https://localhost:8080/"
        },
        "id": "FMBea_r_zq-T",
        "outputId": "4c8da3a1-ed97-4c60-d4a1-8a6c358ef030"
      },
      "execution_count": 7,
      "outputs": [
        {
          "output_type": "stream",
          "name": "stdout",
          "text": [
            "        state  individuals  family_members   total\n",
            "0  California       108000           20900  128900\n",
            "1       Texas        25000            5200   30200\n",
            "2     Florida        28000            6000   34000\n",
            "3    New York        92000           17000  109000\n",
            "4    Illinois        13000            2400   15400\n",
            "<class 'pandas.core.frame.DataFrame'>\n",
            "RangeIndex: 5 entries, 0 to 4\n",
            "Data columns (total 4 columns):\n",
            " #   Column          Non-Null Count  Dtype \n",
            "---  ------          --------------  ----- \n",
            " 0   state           5 non-null      object\n",
            " 1   individuals     5 non-null      int64 \n",
            " 2   family_members  5 non-null      int64 \n",
            " 3   total           5 non-null      int64 \n",
            "dtypes: int64(3), object(1)\n",
            "memory usage: 292.0+ bytes\n",
            "None\n",
            "(5, 4)\n"
          ]
        }
      ]
    },
    {
      "cell_type": "code",
      "source": [
        "# Print the head of the homelessness data\n",
        "print(homelessness.head())\n",
        "\n",
        "# Print information about homelessness\n",
        "print(homelessness.info())\n",
        "\n",
        "# Print the shape of homelessness\n",
        "print(homelessness.shape)\n",
        "\n",
        "# Print a description of homelessness\n",
        "print(homelessness.describe())"
      ],
      "metadata": {
        "colab": {
          "base_uri": "https://localhost:8080/"
        },
        "id": "1RqFZ8A60ChQ",
        "outputId": "b72cd677-8e71-48e5-fc3a-731843272785"
      },
      "execution_count": 8,
      "outputs": [
        {
          "output_type": "stream",
          "name": "stdout",
          "text": [
            "        state  individuals  family_members   total\n",
            "0  California       108000           20900  128900\n",
            "1       Texas        25000            5200   30200\n",
            "2     Florida        28000            6000   34000\n",
            "3    New York        92000           17000  109000\n",
            "4    Illinois        13000            2400   15400\n",
            "<class 'pandas.core.frame.DataFrame'>\n",
            "RangeIndex: 5 entries, 0 to 4\n",
            "Data columns (total 4 columns):\n",
            " #   Column          Non-Null Count  Dtype \n",
            "---  ------          --------------  ----- \n",
            " 0   state           5 non-null      object\n",
            " 1   individuals     5 non-null      int64 \n",
            " 2   family_members  5 non-null      int64 \n",
            " 3   total           5 non-null      int64 \n",
            "dtypes: int64(3), object(1)\n",
            "memory usage: 292.0+ bytes\n",
            "None\n",
            "(5, 4)\n",
            "         individuals  family_members          total\n",
            "count       5.000000        5.000000       5.000000\n",
            "mean    53200.000000    10300.000000   63500.000000\n",
            "std     43459.176246     8126.499862   51575.575615\n",
            "min     13000.000000     2400.000000   15400.000000\n",
            "25%     25000.000000     5200.000000   30200.000000\n",
            "50%     28000.000000     6000.000000   34000.000000\n",
            "75%     92000.000000    17000.000000  109000.000000\n",
            "max    108000.000000    20900.000000  128900.000000\n"
          ]
        }
      ]
    },
    {
      "cell_type": "code",
      "source": [],
      "metadata": {
        "id": "I1h8Wb8v3e_K"
      },
      "execution_count": null,
      "outputs": []
    },
    {
      "cell_type": "code",
      "source": [
        "# Import pandas using the alias pd\n",
        "import pandas as pd\n",
        "\n",
        "# Print the values of homelessness\n",
        "print(homelessness.values)\n",
        "\n",
        "# Print the column index of homelessness\n",
        "print(homelessness.columns)\n",
        "\n",
        "# Print the row index of homelessness\n",
        "print(homelessness.index)"
      ],
      "metadata": {
        "colab": {
          "base_uri": "https://localhost:8080/"
        },
        "id": "yQohMTxN3ehY",
        "outputId": "c69313aa-a0fb-4b77-e33c-c0a9ab7ebe7e"
      },
      "execution_count": 9,
      "outputs": [
        {
          "output_type": "stream",
          "name": "stdout",
          "text": [
            "[['California' 108000 20900 128900]\n",
            " ['Texas' 25000 5200 30200]\n",
            " ['Florida' 28000 6000 34000]\n",
            " ['New York' 92000 17000 109000]\n",
            " ['Illinois' 13000 2400 15400]]\n",
            "Index(['state', 'individuals', 'family_members', 'total'], dtype='object')\n",
            "RangeIndex(start=0, stop=5, step=1)\n"
          ]
        }
      ]
    }
  ]
}