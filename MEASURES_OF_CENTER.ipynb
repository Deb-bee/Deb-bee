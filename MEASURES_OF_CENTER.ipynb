{
  "nbformat": 4,
  "nbformat_minor": 0,
  "metadata": {
    "colab": {
      "provenance": [],
      "authorship_tag": "ABX9TyOL8RZ3HmDfSo2xo0mB2dMn",
      "include_colab_link": true
    },
    "kernelspec": {
      "name": "python3",
      "display_name": "Python 3"
    },
    "language_info": {
      "name": "python"
    }
  },
  "cells": [
    {
      "cell_type": "markdown",
      "metadata": {
        "id": "view-in-github",
        "colab_type": "text"
      },
      "source": [
        "<a href=\"https://colab.research.google.com/github/Deb-bee/Deb-bee/blob/main/MEASURES_OF_CENTER.ipynb\" target=\"_parent\"><img src=\"https://colab.research.google.com/assets/colab-badge.svg\" alt=\"Open In Colab\"/></a>"
      ]
    },
    {
      "cell_type": "code",
      "source": [
        "import pandas as pd\n",
        "import numpy as np\n",
        "\n",
        "\n",
        "data = {\n",
        "    'country': ['USA', 'USA', 'USA', 'Belgium', 'Belgium', 'Belgium', 'USA', 'Belgium'],\n",
        "    'food_category': ['pork', 'beef', 'dairy', 'pork', 'beef', 'dairy', 'poultry', 'poultry'],\n",
        "    'consumption': [50, 90, 200, 40, 80, 180, 70, 60],  # kg/person/year\n",
        "    'co2_emissions': [150, 450, 600, 120, 400, 540, 210, 180]  # kg CO2\n",
        "}\n",
        "\n",
        "# Convert to a pandas DataFrame\n",
        "food_consumption = pd.DataFrame(data)\n",
        "\n",
        "# Display the dataset\n",
        "print(food_consumption)"
      ],
      "metadata": {
        "colab": {
          "base_uri": "https://localhost:8080/"
        },
        "id": "Bm8N8bb6AdA_",
        "outputId": "6c088e5c-1bca-48d6-b1d5-a8f860318189"
      },
      "execution_count": 2,
      "outputs": [
        {
          "output_type": "stream",
          "name": "stdout",
          "text": [
            "   country food_category  consumption  co2_emissions\n",
            "0      USA          pork           50            150\n",
            "1      USA          beef           90            450\n",
            "2      USA         dairy          200            600\n",
            "3  Belgium          pork           40            120\n",
            "4  Belgium          beef           80            400\n",
            "5  Belgium         dairy          180            540\n",
            "6      USA       poultry           70            210\n",
            "7  Belgium       poultry           60            180\n"
          ]
        }
      ]
    },
    {
      "cell_type": "code",
      "execution_count": 3,
      "metadata": {
        "colab": {
          "base_uri": "https://localhost:8080/"
        },
        "id": "8XNWlDFD5ycs",
        "outputId": "0edeeae5-edbf-4c03-aa07-5631bd2d9b23"
      },
      "outputs": [
        {
          "output_type": "stream",
          "name": "stdout",
          "text": [
            "102.5\n",
            "80.0\n"
          ]
        }
      ],
      "source": [
        "# Import numpy with alias np\n",
        "import numpy as np\n",
        "\n",
        "# Subset country for USA: usa_consumption\n",
        "usa_consumption = food_consumption[food_consumption['country'] == 'USA']\n",
        "\n",
        "# Calculate mean consumption in USA\n",
        "print(np.mean(usa_consumption['consumption']))\n",
        "\n",
        "# Calculate median consumption in USA\n",
        "print(np.median(usa_consumption['consumption']))"
      ]
    },
    {
      "cell_type": "code",
      "source": [
        "import pandas as pd\n",
        "import numpy as np\n",
        "import matplotlib.pyplot as plt\n",
        "\n",
        "# Simulated rice_consumption data\n",
        "rice_data = {\n",
        "    'country': ['USA', 'India', 'China', 'Japan', 'Thailand', 'USA', 'India', 'China'],\n",
        "    'consumption': [10, 50, 60, 20, 30, 15, 55, 65],  # kg/person/year\n",
        "    'co2_emission': [5, 25, 30, 10, 15, 8, 28, 32]  # kg CO2\n",
        "}\n",
        "\n",
        "# Convert to a pandas DataFrame\n",
        "rice_consumption = pd.DataFrame(rice_data)\n",
        "\n",
        "# Display the DataFrame\n",
        "print(rice_consumption)"
      ],
      "metadata": {
        "colab": {
          "base_uri": "https://localhost:8080/"
        },
        "id": "BOad-GgxE9Nf",
        "outputId": "6d360da9-5e06-4b43-cd6e-8c219f7b6cf4"
      },
      "execution_count": 6,
      "outputs": [
        {
          "output_type": "stream",
          "name": "stdout",
          "text": [
            "    country  consumption  co2_emission\n",
            "0       USA           10             5\n",
            "1     India           50            25\n",
            "2     China           60            30\n",
            "3     Japan           20            10\n",
            "4  Thailand           30            15\n",
            "5       USA           15             8\n",
            "6     India           55            28\n",
            "7     China           65            32\n"
          ]
        }
      ]
    },
    {
      "cell_type": "code",
      "source": [
        "import pandas as pd\n",
        "import numpy as np\n",
        "import matplotlib.pyplot as plt\n",
        "\n",
        "# Simulated rice_consumption data\n",
        "rice_data = {\n",
        "    'country': ['USA', 'India', 'China', 'Japan', 'Thailand', 'USA', 'India', 'China'],\n",
        "    'consumption': [10, 50, 60, 20, 30, 15, 55, 65],  # kg/person/year\n",
        "    'co2_emission': [5, 25, 30, 10, 15, 8, 28, 32]  # kg CO2\n",
        "}\n",
        "\n",
        "# Convert to a pandas DataFrame\n",
        "rice_consumption = pd.DataFrame(rice_data)\n",
        "\n",
        "# Display the DataFrame\n",
        "print(rice_consumption)"
      ],
      "metadata": {
        "colab": {
          "base_uri": "https://localhost:8080/"
        },
        "id": "OyxoCjBHMB9J",
        "outputId": "e335df1a-19e4-431d-89ac-00aa69f3ef9b"
      },
      "execution_count": 9,
      "outputs": [
        {
          "output_type": "stream",
          "name": "stdout",
          "text": [
            "    country  consumption  co2_emission\n",
            "0       USA           10             5\n",
            "1     India           50            25\n",
            "2     China           60            30\n",
            "3     Japan           20            10\n",
            "4  Thailand           30            15\n",
            "5       USA           15             8\n",
            "6     India           55            28\n",
            "7     China           65            32\n"
          ]
        }
      ]
    },
    {
      "cell_type": "code",
      "source": [
        "# Create a histogram of co2_emission\n",
        "plt.hist(rice_consumption['co2_emission'], bins=5, edgecolor='black')\n",
        "\n",
        "# Add labels and title\n",
        "plt.xlabel('CO2 Emission (kg CO2)')\n",
        "plt.ylabel('Frequency')\n",
        "plt.title('Histogram of CO2 Emission for Rice Consumption')\n",
        "\n",
        "# Show the plot\n",
        "plt.show()"
      ],
      "metadata": {
        "colab": {
          "base_uri": "https://localhost:8080/",
          "height": 472
        },
        "id": "uTH_AfESMJCk",
        "outputId": "d52b1b7f-35e3-4001-cfe2-eabf5d557394"
      },
      "execution_count": 10,
      "outputs": [
        {
          "output_type": "display_data",
          "data": {
            "text/plain": [
              "<Figure size 640x480 with 1 Axes>"
            ],
            "image/png": "[encoded data removed]"
          },
          "metadata": {}
        }
      ]
    },
    {
      "cell_type": "code",
      "source": [
        "import pandas as pd\n",
        "import numpy as np\n",
        "\n",
        "\n",
        "data = {\n",
        "    'country': ['USA', 'India', 'China', 'Japan', 'Thailand', 'USA', 'India', 'China'],\n",
        "    'food_category': ['rice', 'rice', 'rice', 'rice', 'rice', 'rice', 'rice', 'rice'],\n",
        "    'consumption': [10, 50, 60, 20, 30, 15, 55, 65],  # kg/person/year\n",
        "    'co2_emissions': [5, 25, 30, 10, 15, 8, 28, 32]  # kg CO2\n",
        "}\n",
        "\n",
        "# Convert to a pandas DataFrame\n",
        "food_consumption = pd.DataFrame(data)\n",
        "\n",
        "# Subset for food_category equals rice\n",
        "rice_consumption = food_consumption[food_consumption['food_category'] == 'rice']\n",
        "\n",
        "# Calculate mean and median of co2_emissions with .agg() using strings\n",
        "print(rice_consumption['co2_emissions'].agg(['mean', 'median']))"
      ],
      "metadata": {
        "colab": {
          "base_uri": "https://localhost:8080/"
        },
        "id": "sdWY4TNbMvfN",
        "outputId": "7f7813b1-863a-42f9-c7a8-dcfacbb5327b"
      },
      "execution_count": 14,
      "outputs": [
        {
          "output_type": "stream",
          "name": "stdout",
          "text": [
            "mean      19.125\n",
            "median    20.000\n",
            "Name: co2_emissions, dtype: float64\n"
          ]
        }
      ]
    }
  ]
}