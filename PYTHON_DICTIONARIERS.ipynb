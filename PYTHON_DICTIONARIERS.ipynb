{
  "nbformat": 4,
  "nbformat_minor": 0,
  "metadata": {
    "colab": {
      "provenance": [],
      "authorship_tag": "ABX9TyPlddxw2bAZr9vMA1NwDylv",
      "include_colab_link": true
    },
    "kernelspec": {
      "name": "python3",
      "display_name": "Python 3"
    },
    "language_info": {
      "name": "python"
    }
  },
  "cells": [
    {
      "cell_type": "markdown",
      "metadata": {
        "id": "view-in-github",
        "colab_type": "text"
      },
      "source": [
        "<a href=\"https://colab.research.google.com/github/Deb-bee/Deb-bee/blob/main/PYTHON_DICTIONARIERS.ipynb\" target=\"_parent\"><img src=\"https://colab.research.google.com/assets/colab-badge.svg\" alt=\"Open In Colab\"/></a>"
      ]
    },
    {
      "cell_type": "code",
      "execution_count": 6,
      "metadata": {
        "id": "3w9ade0ImxSd"
      },
      "outputs": [],
      "source": [
        "#import libraries\n",
        "import pandas as pd\n",
        "import numpy as np\n",
        "import matplotlib.pyplot as plt\n",
        "\n"
      ]
    },
    {
      "cell_type": "code",
      "source": [
        "#Definition of countries and capital\n",
        "countries = ['spain', 'france', 'germany', 'norway']\n",
        "capitals = ['madrid', 'paris', 'berlin', 'oslo']\n",
        "# Get index of 'germany': ind_ger\n",
        "ind_ger = countries.index(\"germany\")\n",
        "\n",
        "# Use ind_ger to print out capital of Germany\n",
        "print (capitals[ind_ger])\n",
        "\n",
        "#Definition of countries and capital\n",
        "countries = ['spain', 'france', 'germany', 'norway']\n",
        "capitals = ['madrid', 'paris', 'berlin', 'oslo']\n",
        "\n",
        "# From string in countries and capitals, create dictionary europe\n",
        "europe = {'spain':'madrid',\"france\":\"paris\", \"germany\": \"berlin\", \"norway\": \"oslo\" }\n",
        "\n",
        "# Print europe\n",
        "print (europe)\n",
        "\n",
        "#Definition of dictionary\n",
        "europe = {'spain':'madrid', 'france':'paris', 'germany':'berlin', 'norway':'oslo' }\n",
        "# Print out the keys in europe\n",
        "print (europe.keys())\n",
        "\n",
        "# Print out value that belongs to key 'norway'\n",
        "print (europe[\"norway\"])\n",
        "\n",
        "#Definition of dictionary\n",
        "europe = {'spain':'madrid', 'france':'paris', 'germany':'berlin', 'norway':'oslo' }\n",
        "\n",
        "# Add italy to europe\n",
        "europe[\"italy\"] = \"rome\"\n",
        "\n",
        "# Print out italy in europe\n",
        "print (\"italy\" in europe)\n",
        "\n",
        "# Add poland to europe\n",
        "europe [\"poland\"] = \"warsaw\"\n",
        "\n",
        "# Print europe\n",
        "print (europe)\n",
        "\n",
        " #Definition of dictionary\n",
        "europe = {'spain':'madrid', 'france':'paris', 'germany':'bonn',\n",
        "          'norway':'oslo', 'italy':'rome', 'poland':'warsaw',\n",
        "          'australia':'vienna' }\n",
        "\n",
        "# Update capital of germany\n",
        "europe [\"germany\"] = \"berlin\"\n",
        "\n",
        "# Remove australia\n",
        "del(europe[\"australia\"])\n",
        "\n",
        "# Print europe\n",
        "print (europe)\n",
        "\n",
        "\n",
        " #Dictionary of dictionaries\n",
        "europe = { 'spain': { 'capital':'madrid', 'population':46.77 },\n",
        "           'france': { 'capital':'paris', 'population':66.03 },\n",
        "           'germany': { 'capital':'berlin', 'population':80.62 },\n",
        "           'norway': { 'capital':'oslo', 'population':5.084 } }\n",
        "\"\"\n",
        "\n",
        "# Print out the capital of France\n",
        "print(europe[\"france\"][\"capital\"])\n",
        "\n",
        "# Create sub-dictionary data\n",
        "data = {\"capital\": \"rome\", \"population\": 59.83}\n",
        "\n",
        "# Add data to europe under key 'italy'\n",
        "europe[\"italy\"] = data\n",
        "\n",
        "# Print europe\n",
        "print(europe)\n"
      ],
      "metadata": {
        "colab": {
          "base_uri": "https://localhost:8080/"
        },
        "id": "xz8HTv6x12ZQ",
        "outputId": "6d0fa8f6-d0e2-4db3-dc4c-37a067606869"
      },
      "execution_count": 3,
      "outputs": [
        {
          "output_type": "stream",
          "name": "stdout",
          "text": [
            "berlin\n",
            "{'spain': 'madrid', 'france': 'paris', 'germany': 'berlin', 'norway': 'oslo'}\n",
            "dict_keys(['spain', 'france', 'germany', 'norway'])\n",
            "oslo\n",
            "True\n",
            "{'spain': 'madrid', 'france': 'paris', 'germany': 'berlin', 'norway': 'oslo', 'italy': 'rome', 'poland': 'warsaw'}\n",
            "{'spain': 'madrid', 'france': 'paris', 'germany': 'berlin', 'norway': 'oslo', 'italy': 'rome', 'poland': 'warsaw'}\n",
            "paris\n",
            "{'spain': {'capital': 'madrid', 'population': 46.77}, 'france': {'capital': 'paris', 'population': 66.03}, 'germany': {'capital': 'berlin', 'population': 80.62}, 'norway': {'capital': 'oslo', 'population': 5.084}, 'italy': {'capital': 'rome', 'population': 59.83}}\n"
          ]
        }
      ]
    }
  ]
}